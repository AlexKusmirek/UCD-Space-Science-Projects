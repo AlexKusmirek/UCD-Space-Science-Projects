{
 "cells": [
  {
   "cell_type": "markdown",
   "metadata": {},
   "source": [
    "Galaxies and Observational Cosmology: Assignment 2 - Galactic Rotation Curves\n",
    "\n",
    "Alex Kusmirek [20203284]"
   ]
  },
  {
   "cell_type": "code",
   "execution_count": 1,
   "metadata": {},
   "outputs": [],
   "source": [
    "#standard libraries\n",
    "import sys\n",
    "import time\n",
    "import os\n",
    "\n",
    "#3rd part libraries\n",
    "import numpy as np\n",
    "import matplotlib.pyplot as plt\n",
    "import pandas as pd\n",
    "import astropy as ap\n",
    "from astropy.table import Table\n",
    "from tkinter import filedialog\n",
    "from tkinter import *\n",
    "import warnings\n",
    "import math\n",
    "\n",
    "#constants\n",
    "R0 = 2.6 * 10**17 #km\n",
    "V0 = 220 #km/s\n",
    "c = 299792 #km/s\n",
    "HI_line = 1420.406 #MHz"
   ]
  },
  {
   "cell_type": "markdown",
   "metadata": {},
   "source": [
    "Task 1: Generate a rotation curve for the galaxy using the radio data provided.\n",
    "\n",
    "This notebook details the steps taken to develop a script capable of generating a rotation curve using data provided by the University of Sydney, to complete Task 1 of the assignment."
   ]
  },
  {
   "cell_type": "markdown",
   "metadata": {},
   "source": [
    "Firstly, defining the equations for distance from galactic centre (R) and radial velocity (v) as functions:"
   ]
  },
  {
   "cell_type": "code",
   "execution_count": 2,
   "metadata": {},
   "outputs": [],
   "source": [
    "#Converting galactic longitude l to distance from galactic centre R:\n",
    "def l_to_R(l):\n",
    "    \n",
    "    L = math.radians(l)\n",
    "    R = R0 * math.sin(L)\n",
    "    \n",
    "    return R\n",
    "\n",
    "#Convert measured frequency f (from Sydney, 2017) into a radial velocity v:\n",
    "def f_to_v(f, v_LSR):\n",
    "    \n",
    "    v = (((float(HI_line) - f) * float(c)) / (float(HI_line))) - v_LSR\n",
    "    \n",
    "    return v"
   ]
  },
  {
   "cell_type": "markdown",
   "metadata": {},
   "source": [
    "Additionally, it is necessary to define a function to calculate rotational velocity based on an estimate of the most negative radial velocity for a galactic longitude:"
   ]
  },
  {
   "cell_type": "markdown",
   "metadata": {},
   "source": [
    "A smoothing function is also used for producing a smoothed data plot:"
   ]
  },
  {
   "cell_type": "code",
   "execution_count": 3,
   "metadata": {},
   "outputs": [],
   "source": [
    "def calc_Vrot(v_max_values, l_values):\n",
    "    \n",
    "    Vrot = vmax + (V0 * math.sin(math.radians(R)))\n",
    "    \n",
    "    return Vrot\n",
    "    "
   ]
  },
  {
   "cell_type": "code",
   "execution_count": 4,
   "metadata": {},
   "outputs": [],
   "source": [
    "def smooth(y, box_pts):\n",
    "    \n",
    "    box = np.ones(box_pts)/box_pts\n",
    "    y_smoothed = np.convolve(y, box, mode = 'same')\n",
    "    \n",
    "    return y_smoothed\n"
   ]
  },
  {
   "cell_type": "markdown",
   "metadata": {},
   "source": [
    "For each .txt data file (corresponding to different values of l), it is necessary to plot the radial velocity v for each channel. The code progresses through raw, then calibrated, data, resulting in a raw data plot and a calibrated, filtered and smoothed data plot:"
   ]
  },
  {
   "cell_type": "code",
   "execution_count": 5,
   "metadata": {},
   "outputs": [],
   "source": [
    "def parse_data():\n",
    "    \n",
    "    #------------------\n",
    "    # PARSING DATA FILES\n",
    "    #------------------\n",
    "    \n",
    "    root = Tk()\n",
    "    root.data_1 = filedialog.askopenfilename(initialdir = \"Radio_Rot_Curve_Data_2019-20210322T105008Z-001/Radio_Rot_Curve_Data_2019\",\n",
    "                                             title = \"Select Data 1\",\n",
    "                                             filetypes = ((\"dat files\",\n",
    "                                                           \"*.txt\"),\n",
    "                                                          (\"all files\",\"*.*\")))\n",
    "    \n",
    "    data_1 = root.data_1\n",
    "    root.destroy()\n",
    "\n",
    "    data = Table.read(data_1, format='ascii')\n",
    "    \n",
    "    #Setting initial calibration conditions and empty lists:\n",
    "    S_off = 0\n",
    "    S_off_cal = 0\n",
    "    T_cal = 20 #K\n",
    "    S_values = []\n",
    "    v_values = []\n",
    "    \n",
    "    #Selecting the relative velocity to the Local Standard of Rest (v_LSR):\n",
    "    file = open(data_1)\n",
    "    all_data = file.readlines()\n",
    "    LSR = all_data[3].split(' ')\n",
    "    LSR_str = LSR[3]\n",
    "    v_LSR = float(LSR_str)\n",
    "    print(\"v_LSR = \", v_LSR)\n",
    "    \n",
    "    for line in data:\n",
    "        \n",
    "        #Separating the data values:\n",
    "        # 0. OnFreq, 1. On, 2. OffFreq, 3. Off, 4. Cal\n",
    "        on_freq = line[0]\n",
    "        on = line[1]\n",
    "        off_freq = line[2]\n",
    "        off = line[3]\n",
    "        cal = line[4]\n",
    "\n",
    "        #Calibration and sigmas\n",
    "        cal_off = cal - off\n",
    "        S_off += off\n",
    "        S_off_cal += cal_off\n",
    "        \n",
    "    #Calculating T_sys:\n",
    "    T_sys = (S_off/(S_off_cal)) * T_cal\n",
    "     \n",
    "    for line in data:\n",
    "        \n",
    "        #Separating the data values:\n",
    "        # 0. OnFreq, 1. On, 2. OffFreq, 3. Off, 4. Cal\n",
    "        on_freq = line[0]\n",
    "        on = line[1]\n",
    "        off_freq = line[2]\n",
    "        off = line[3]\n",
    "        cal = line[4]\n",
    "        \n",
    "        #Calibration signal:\n",
    "        S = (on/off) * T_sys\n",
    "        S_values.append(S)\n",
    "        \n",
    "        #Use f_to_v function to calculate v:\n",
    "        v_values.append(f_to_v(line[0], v_LSR))\n",
    "        \n",
    "    #------------------\n",
    "    # PLOTTING GRAPHS\n",
    "    #------------------\n",
    "\n",
    "    #Plotting the signal frequency (converted to radial velocity) vs. intensity:\n",
    "    plt.plot(f_to_v(data.columns[0], v_LSR), data.columns[1], color = 'black')\n",
    "    plt.xlabel(\"Radial velocity, $\\it{v}$ (km/s)\")\n",
    "    plt.ylabel(\"Intensity, $\\it{I}$\")\n",
    "    plt.title(\"Raw Signal\")\n",
    "    plt.show()\n",
    "    \n",
    "    #Plotting a calibrated, filtered and smoothed curve using Tsys and sigmas:\n",
    "    \n",
    "    #filtering the signal to the area of interest around the 1420MHz HI line:\n",
    "    \n",
    "    #lists to plot on graph:\n",
    "    S_graph = smooth(S_values, 20)\n",
    "    v_graph = v_values\n",
    "    \n",
    "    plt.plot(v_graph, S_graph, color = 'black')\n",
    "    plt.xlabel(\"Radial velocity, $\\it{v}$ (km/s)\")\n",
    "    plt.ylabel(\"Intensity, $\\it{I}$\")\n",
    "    plt.title(\"Calibrated Signal\")\n",
    "    plt.xlim(-500,500)\n",
    "    plt.show()  \n",
    "    "
   ]
  },
  {
   "cell_type": "markdown",
   "metadata": {},
   "source": [
    "Below is an example of the raw and calibrated graphs for a selected file (recommended to select '10.txt' for l = 10):"
   ]
  },
  {
   "cell_type": "code",
   "execution_count": 6,
   "metadata": {},
   "outputs": [
    {
     "name": "stdout",
     "output_type": "stream",
     "text": [
      "v_LSR =  -40.4644\n"
     ]
    },
    {
     "data": {
      "image/png": "[encoded data removed]",
      "text/plain": [
       "<Figure size 432x288 with 1 Axes>"
      ]
     },
     "metadata": {
      "needs_background": "light"
     },
     "output_type": "display_data"
    },
    {
     "data": {
      "image/png": "[encoded data removed]",
      "text/plain": [
       "<Figure size 432x288 with 1 Axes>"
      ]
     },
     "metadata": {
      "needs_background": "light"
     },
     "output_type": "display_data"
    }
   ],
   "source": [
    "parse_data()"
   ]
  },
  {
   "cell_type": "markdown",
   "metadata": {},
   "source": [
    "From the calibrated signal, a vmax can be estimated either by a 5-sigma approximation of the most negative velocity or as a visual estimate."
   ]
  },
  {
   "cell_type": "markdown",
   "metadata": {},
   "source": [
    "Having run the parse_data() function to find a vmax estimate, the code can now calculate a rotational velocity (Vrot) value for the .txt data file that has been accessed, alongside the appropriate R value for the file's longitude l. Values for the most negative velocity (vmax) are estimated for each data file, and these are used to calculate Vrot using the function calc_Vrot(vmax). To calculate a rotation curve, the functions are looped to allow the analyst to select each data file in turn and output the necessary values."
   ]
  },
  {
   "cell_type": "markdown",
   "metadata": {},
   "source": [
    "Values are automatically printed and recorded in a results file to allow for easy manipulation by the analyst."
   ]
  },
  {
   "cell_type": "markdown",
   "metadata": {},
   "source": [
    "The following list of v_max values was estimated using the parse_data() function:"
   ]
  },
  {
   "cell_type": "code",
   "execution_count": 7,
   "metadata": {},
   "outputs": [],
   "source": [
    "v_max_values = [50, 60, 75, 80,\n",
    "                90, 100, 140, 150,\n",
    "                150, 150, 150, 125,\n",
    "                125, 125, 125, 115,\n",
    "                115, 100, 100, 100,\n",
    "                90, 85, 80, 75,\n",
    "                75, 75, 70, 60,\n",
    "                60, 60, 60, 50,\n",
    "                50, 50, 45, 50,\n",
    "                40, 40, 40, 35,\n",
    "                35, 30, 30, 30]"
   ]
  },
  {
   "cell_type": "markdown",
   "metadata": {},
   "source": [
    "v_max_values is then used to in a loop to calculate values of Vrot using the function calc_Vrot(v_max_values) and the provided list of l values:"
   ]
  },
  {
   "cell_type": "code",
   "execution_count": 8,
   "metadata": {},
   "outputs": [],
   "source": [
    "#opening and parsing the LSR file:\n",
    "LSR_file = open(\"Radio_Rot_Curve_Data_2019-20210322T105008Z-001/Radio_Rot_Curve_Data_2019/LSR.txt\")\n",
    "LSR_file_data = LSR_file.readlines()\n",
    "l_LSR = LSR_file_data[3:]\n",
    "\n",
    "#empty longitude list\n",
    "l_list = []\n",
    "\n",
    "#Listing the l values that correlate to the v_max_values list:\n",
    "for row in l_LSR:\n",
    "    \n",
    "    l_LSR_stripped = row.strip().split(' ')\n",
    "    l_string = l_LSR_stripped[0]\n",
    "    l_degrees = float(l_string)\n",
    "    l = math.radians(l_degrees)\n",
    "    l_list.append(l)\n"
   ]
  },
  {
   "cell_type": "code",
   "execution_count": 9,
   "metadata": {},
   "outputs": [],
   "source": [
    "R_values = []\n",
    "Vrot_values = []\n",
    "\n",
    "for i in range(len(v_max_values)):\n",
    "    \n",
    "    v_max = v_max_values[i]\n",
    "    l = l_list[i]\n",
    "    \n",
    "    R = R0 * (math.sin(l))\n",
    "    Vrot = v_max + (V0 * math.sin(l))\n",
    "    \n",
    "    R_values.append(R)\n",
    "    Vrot_values.append(Vrot)\n"
   ]
  },
  {
   "cell_type": "code",
   "execution_count": 10,
   "metadata": {},
   "outputs": [
    {
     "data": {
      "image/png": "[encoded data removed]",
      "text/plain": [
       "<Figure size 432x288 with 1 Axes>"
      ]
     },
     "metadata": {
      "needs_background": "light"
     },
     "output_type": "display_data"
    }
   ],
   "source": [
    "#Plotting Vrot vs. R (our galactic rotation curve):\n",
    "plt.scatter(R_values, Vrot_values, marker ='X', c = 'black', linewidth = 0.5)\n",
    "plt.title('Milky Way Rotation Curve')\n",
    "plt.xlabel('Distance to Galactic Centre, $\\it{R}$ (km)')\n",
    "plt.ylabel('Rotational Velocity, $\\it{Vrot}$ (km/s)')\n",
    "plt.show()"
   ]
  },
  {
   "cell_type": "markdown",
   "metadata": {},
   "source": [
    "Using the results of Vrot for each value of l observed, a Milky Way rotation curve has been generated for l = 4:90 degrees."
   ]
  }
 ],
 "metadata": {
  "kernelspec": {
   "display_name": "Python 3",
   "language": "python",
   "name": "python3"
  },
  "language_info": {
   "codemirror_mode": {
    "name": "ipython",
    "version": 3
   },
   "file_extension": ".py",
   "mimetype": "text/x-python",
   "name": "python",
   "nbconvert_exporter": "python",
   "pygments_lexer": "ipython3",
   "version": "3.8.5"
  }
 },
 "nbformat": 4,
 "nbformat_minor": 4
}
